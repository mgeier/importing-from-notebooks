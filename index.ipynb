{
 "cells": [
  {
   "cell_type": "markdown",
   "metadata": {},
   "source": [
    "# Importing Local Python Modules from Jupyter Notebooks\n",
    "\n",
    "If you re-use local modules a lot, you should consider turning them into proper\n",
    "Python packages which can be installed with Python's package manager `pip`.\n",
    "\n",
    "* [symbolic links](symbolic-link/symlink.ipynb)\n",
    "* [path manipulations in notebook](sys-path-in-notebook/path-notebook.ipynb)\n",
    "* [path manipulations in helper module](sys-path-in-helper-module/path-helper.ipynb)"
   ]
  }
 ],
 "metadata": {
  "kernelspec": {
   "display_name": "Python 3",
   "language": "python",
   "name": "python3"
  },
  "language_info": {
   "codemirror_mode": {
    "name": "ipython",
    "version": 3
   },
   "file_extension": ".py",
   "mimetype": "text/x-python",
   "name": "python",
   "nbconvert_exporter": "python",
   "pygments_lexer": "ipython3",
   "version": "3.6.4"
  }
 },
 "nbformat": 4,
 "nbformat_minor": 2
}
